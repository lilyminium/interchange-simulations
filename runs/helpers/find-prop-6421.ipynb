{
 "cells": [
  {
   "cell_type": "code",
   "execution_count": 1,
   "id": "f5553b6b-abf4-4eb0-9384-f9fec6f5b775",
   "metadata": {},
   "outputs": [],
   "source": [
    "import json"
   ]
  },
  {
   "cell_type": "code",
   "execution_count": 2,
   "id": "df5d3871-1034-4b89-9aa6-fb08404c194a",
   "metadata": {},
   "outputs": [],
   "source": [
    "with open(\"n-1000/liquid-boxes.json\", \"r\") as f:\n",
    "    contents = json.load(f)"
   ]
  },
  {
   "cell_type": "code",
   "execution_count": 5,
   "id": "aae2eec4-f96c-44b3-b387-a9bcbc072605",
   "metadata": {},
   "outputs": [
    {
     "name": "stdout",
     "output_type": "stream",
     "text": [
      "1248\n"
     ]
    }
   ],
   "source": [
    "triethanolamine = \"OCCN(CCO)CCO\"\n",
    "\n",
    "smiles = [triethanolamine, \"O\"]\n",
    "n_mols = [490, 510]\n",
    "index = -1\n",
    "\n",
    "for i, prop in enumerate(contents):\n",
    "    if prop[\"smiles\"] == smiles and prop[\"n_molecules\"] == n_mols:\n",
    "        index = i\n",
    "\n",
    "print(index)"
   ]
  },
  {
   "cell_type": "code",
   "execution_count": null,
   "id": "0404a2ff-da94-4c4d-9035-dbd43869a025",
   "metadata": {},
   "outputs": [],
   "source": []
  },
  {
   "cell_type": "code",
   "execution_count": null,
   "id": "982472b6-f187-424c-bf31-62f9ce3f29f8",
   "metadata": {},
   "outputs": [],
   "source": []
  }
 ],
 "metadata": {
  "kernelspec": {
   "display_name": "Python (openff-nagl-test)",
   "language": "python",
   "name": "openff-nagl-test"
  },
  "language_info": {
   "codemirror_mode": {
    "name": "ipython",
    "version": 3
   },
   "file_extension": ".py",
   "mimetype": "text/x-python",
   "name": "python",
   "nbconvert_exporter": "python",
   "pygments_lexer": "ipython3",
   "version": "3.10.14"
  }
 },
 "nbformat": 4,
 "nbformat_minor": 5
}
