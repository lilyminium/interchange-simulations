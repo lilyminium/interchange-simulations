{
 "cells": [
  {
   "cell_type": "code",
   "execution_count": 6,
   "id": "1c56acda-1fa6-4ce2-aec7-4d0aef335b46",
   "metadata": {},
   "outputs": [
    {
     "name": "stdout",
     "output_type": "stream",
     "text": [
      "0.4.0rc1\n",
      "0.16.4\n"
     ]
    }
   ],
   "source": [
    "from openff.interchange.components._packmol import _box_from_density\n",
    "from openff.toolkit.topology.molecule import Molecule, unit\n",
    "import openff.interchange\n",
    "import openff.toolkit\n",
    "import numpy as np\n",
    "\n",
    "print(openff.interchange.__version__)\n",
    "print(openff.toolkit.__version__)"
   ]
  },
  {
   "cell_type": "code",
   "execution_count": 3,
   "id": "b7e057ed-3a53-4806-870c-daa2f928ac70",
   "metadata": {},
   "outputs": [],
   "source": [
    "smiles = \"OCCN(CCO)CCO\""
   ]
  },
  {
   "cell_type": "code",
   "execution_count": 4,
   "id": "ba165928-0aa5-42d0-959b-4a026911b9ad",
   "metadata": {},
   "outputs": [],
   "source": [
    "comp0 = Molecule.from_smiles(smiles)\n",
    "comp1 = Molecule.from_smiles(\"O\")\n",
    "copies = [490, 510]\n",
    "mass_density = 0.95 * unit.grams / unit.milliliters\n",
    "box_aspect_ratio = [1, 1, 1]"
   ]
  },
  {
   "cell_type": "code",
   "execution_count": 7,
   "id": "480d80f6-31e2-4c02-bed1-8d4005f725c8",
   "metadata": {},
   "outputs": [],
   "source": [
    "box = _box_from_density(\n",
    "    [comp0, comp1],\n",
    "    copies,\n",
    "    mass_density,\n",
    "    np.identity(3),\n",
    ")"
   ]
  },
  {
   "cell_type": "code",
   "execution_count": 8,
   "id": "db7b50c5-a167-4e8b-803e-ff675ea9877f",
   "metadata": {},
   "outputs": [
    {
     "data": {
      "text/html": [
       "<table><tbody><tr><th>Magnitude</th><td style='text-align:left;'><pre>[[57.63472087723553 0.0 0.0]<br> [0.0 57.63472087723553 0.0]<br> [0.0 0.0 57.63472087723553]]</pre></td></tr><tr><th>Units</th><td style='text-align:left;'>angstrom</td></tr></tbody></table>"
      ],
      "text/latex": [
       "$\\begin{pmatrix} &  & \\\\ \n",
       " &  & \\\\ \n",
       " &  & \\end{pmatrix}\\ \\mathrm{angstrom}$"
      ],
      "text/plain": [
       "array([[57.63472088,  0.        ,  0.        ],\n",
       "       [ 0.        , 57.63472088,  0.        ],\n",
       "       [ 0.        ,  0.        , 57.63472088]]) <Unit('angstrom')>"
      ]
     },
     "execution_count": 8,
     "metadata": {},
     "output_type": "execute_result"
    }
   ],
   "source": [
    "box"
   ]
  },
  {
   "cell_type": "code",
   "execution_count": null,
   "id": "46ab53a1-4e73-44ad-9ec3-2671a68b2986",
   "metadata": {},
   "outputs": [],
   "source": []
  }
 ],
 "metadata": {
  "kernelspec": {
   "display_name": "Python (interchange-packmol-040)",
   "language": "python",
   "name": "interchange-packmol-040"
  },
  "language_info": {
   "codemirror_mode": {
    "name": "ipython",
    "version": 3
   },
   "file_extension": ".py",
   "mimetype": "text/x-python",
   "name": "python",
   "nbconvert_exporter": "python",
   "pygments_lexer": "ipython3",
   "version": "3.12.7"
  }
 },
 "nbformat": 4,
 "nbformat_minor": 5
}
