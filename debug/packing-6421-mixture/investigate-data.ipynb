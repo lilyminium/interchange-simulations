{
 "cells": [
  {
   "cell_type": "code",
   "execution_count": 1,
   "id": "6e6bae26-1b67-42e0-b84b-b45f4e1e4027",
   "metadata": {},
   "outputs": [],
   "source": [
    "import MDAnalysis as mda"
   ]
  },
  {
   "cell_type": "code",
   "execution_count": 2,
   "id": "2b812728-5048-4445-aae3-7fd3c890936d",
   "metadata": {},
   "outputs": [],
   "source": [
    "u = mda.Universe(\n",
    "    \"barbara-data/6421_build_coordinates_mixture/output.pdb\"\n",
    ")"
   ]
  },
  {
   "cell_type": "code",
   "execution_count": 4,
   "id": "a5b47318-2815-4c68-a0fa-054ac13e1a7c",
   "metadata": {},
   "outputs": [
    {
     "data": {
      "text/plain": [
       "1000"
      ]
     },
     "execution_count": 4,
     "metadata": {},
     "output_type": "execute_result"
    }
   ],
   "source": [
    "len(u.residues)"
   ]
  },
  {
   "cell_type": "code",
   "execution_count": 6,
   "id": "7b40e6d2-f0e1-4ef5-8fb3-53f620a2b00b",
   "metadata": {},
   "outputs": [
    {
     "data": {
      "text/plain": [
       "490"
      ]
     },
     "execution_count": 6,
     "metadata": {},
     "output_type": "execute_result"
    }
   ],
   "source": [
    "len(u.select_atoms(\"resname QRW\").residues) # component 0"
   ]
  },
  {
   "cell_type": "code",
   "execution_count": 7,
   "id": "e5cff2eb-73a0-4b0e-ad17-c0d9abdd0ccf",
   "metadata": {},
   "outputs": [
    {
     "data": {
      "text/plain": [
       "array([59.635, 59.635, 59.635, 90.   , 90.   , 90.   ], dtype=float32)"
      ]
     },
     "execution_count": 7,
     "metadata": {},
     "output_type": "execute_result"
    }
   ],
   "source": [
    "u.dimensions"
   ]
  },
  {
   "cell_type": "code",
   "execution_count": null,
   "id": "f01e74c5-e250-4be6-823b-89ce5b23975b",
   "metadata": {},
   "outputs": [],
   "source": []
  }
 ],
 "metadata": {
  "kernelspec": {
   "display_name": "Python (openff-nagl-test)",
   "language": "python",
   "name": "openff-nagl-test"
  },
  "language_info": {
   "codemirror_mode": {
    "name": "ipython",
    "version": 3
   },
   "file_extension": ".py",
   "mimetype": "text/x-python",
   "name": "python",
   "nbconvert_exporter": "python",
   "pygments_lexer": "ipython3",
   "version": "3.10.14"
  }
 },
 "nbformat": 4,
 "nbformat_minor": 5
}
