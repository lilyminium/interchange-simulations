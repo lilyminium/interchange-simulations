{
 "cells": [
  {
   "cell_type": "code",
   "execution_count": 1,
   "id": "1c56acda-1fa6-4ce2-aec7-4d0aef335b46",
   "metadata": {},
   "outputs": [
    {
     "name": "stdout",
     "output_type": "stream",
     "text": [
      "0.1.0-beta.4+241.g7d1a29d\n",
      "0.16.4\n"
     ]
    }
   ],
   "source": [
    "from openff.evaluator.utils.packmol import _approximate_box_size_by_density\n",
    "from openff.toolkit.topology.molecule import Molecule, unit\n",
    "from openff.evaluator import unit as eval_unit\n",
    "from openff.evaluator.utils.openmm import openmm_quantity_to_pint\n",
    "import openff.evaluator\n",
    "import openff.toolkit\n",
    "\n",
    "print(openff.evaluator.__version__)\n",
    "print(openff.toolkit.__version__)"
   ]
  },
  {
   "cell_type": "code",
   "execution_count": 2,
   "id": "b7e057ed-3a53-4806-870c-daa2f928ac70",
   "metadata": {},
   "outputs": [],
   "source": [
    "smiles = \"OCCN(CCO)CCO\""
   ]
  },
  {
   "cell_type": "code",
   "execution_count": 3,
   "id": "ba165928-0aa5-42d0-959b-4a026911b9ad",
   "metadata": {},
   "outputs": [],
   "source": [
    "comp0 = Molecule.from_smiles(smiles)\n",
    "comp1 = Molecule.from_smiles(\"O\")\n",
    "copies = [490, 510]\n",
    "mass_density = 0.95 * eval_unit.grams / eval_unit.milliliters\n",
    "box_aspect_ratio = [1, 1, 1]"
   ]
  },
  {
   "cell_type": "code",
   "execution_count": 4,
   "id": "480d80f6-31e2-4c02-bed1-8d4005f725c8",
   "metadata": {},
   "outputs": [],
   "source": [
    "box = _approximate_box_size_by_density(\n",
    "    [comp0, comp1],\n",
    "    copies,\n",
    "    mass_density,\n",
    "    box_aspect_ratio,\n",
    ")"
   ]
  },
  {
   "cell_type": "code",
   "execution_count": 5,
   "id": "db7b50c5-a167-4e8b-803e-ff675ea9877f",
   "metadata": {},
   "outputs": [
    {
     "data": {
      "text/html": [
       "<table><tbody><tr><th>Magnitude</th><td style='text-align:left;'><pre>[57.63472087723553 57.63472087723553 57.63472087723553]</pre></td></tr><tr><th>Units</th><td style='text-align:left;'>angstrom</td></tr></tbody></table>"
      ],
      "text/latex": [
       "$\\begin{pmatrix} &  & \\end{pmatrix}\\ \\mathrm{angstrom}$"
      ],
      "text/plain": [
       "array([57.63472088, 57.63472088, 57.63472088]) <Unit('angstrom')>"
      ]
     },
     "execution_count": 5,
     "metadata": {},
     "output_type": "execute_result"
    }
   ],
   "source": [
    "box"
   ]
  },
  {
   "cell_type": "code",
   "execution_count": null,
   "id": "46ab53a1-4e73-44ad-9ec3-2671a68b2986",
   "metadata": {},
   "outputs": [],
   "source": []
  }
 ],
 "metadata": {
  "kernelspec": {
   "display_name": "Python (evaluator-test-env)",
   "language": "python",
   "name": "evaluator-test-env"
  },
  "language_info": {
   "codemirror_mode": {
    "name": "ipython",
    "version": 3
   },
   "file_extension": ".py",
   "mimetype": "text/x-python",
   "name": "python",
   "nbconvert_exporter": "python",
   "pygments_lexer": "ipython3",
   "version": "3.11.9"
  }
 },
 "nbformat": 4,
 "nbformat_minor": 5
}
